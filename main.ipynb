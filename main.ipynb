{
 "cells": [
  {
   "cell_type": "markdown",
   "metadata": {},
   "source": [
    "TOMAR LOS DATOS DE VELAS Y CALCULAR EL RSI "
   ]
  },
  {
   "cell_type": "code",
   "execution_count": null,
   "metadata": {},
   "outputs": [],
   "source": [
    "import pandas as pd\n",
    "! pip install openpyxl"
   ]
  },
  {
   "cell_type": "code",
   "execution_count": null,
   "metadata": {},
   "outputs": [],
   "source": [
    "\n",
    "data = pd.DataFrame({\"A\": [1, 2, 3, 4, 5, 6, 7, 8, 9, 10], \"B\": [11, 12, 13, 14, 15, 16, 17, 18, 19, 20], \"C\": [21, 22, 23, 24, 25, 26, 27, 28, 29, 30]})"
   ]
  },
  {
   "cell_type": "code",
   "execution_count": null,
   "metadata": {},
   "outputs": [],
   "source": [
    "data.to_excel(\"datos_prueba.xlsx\",sheet_name=\"transacciones\")"
   ]
  },
  {
   "cell_type": "code",
   "execution_count": null,
   "metadata": {},
   "outputs": [],
   "source": [
    "data = data.iloc[3:]\n",
    "data.to_excel(\"datos_prueba.xlsx\",sheet_name=\"transacciones\")"
   ]
  },
  {
   "cell_type": "code",
   "execution_count": 7,
   "metadata": {},
   "outputs": [],
   "source": [
    "from config import secreta\n",
    "from config import keya\n",
    "from binance.client import Client\n",
    "API_Key= 'UEivCtTVco71BRYF2dLEho0f63JwJDMT8NrvgxT0TqQ88yWC2D8EQ9ja1kuOkBHr'\n",
    "\n",
    "Secret_Key= '15WT3cNdwomkOKR0PAgPvdEz0WazNSwuKuHVsKDtMCYSPBsiPgxIMBHa34yzhcVS'\n",
    "\n",
    "client =Client(api_key=API_Key,api_secret=Secret_Key,testnet=True,tld='com')"
   ]
  },
  {
   "cell_type": "code",
   "execution_count": 94,
   "metadata": {},
   "outputs": [
    {
     "name": "stdout",
     "output_type": "stream",
     "text": [
      "1000\n",
      "-1000\n"
     ]
    }
   ],
   "source": [
    "actual ,entrada= 27000, 26000\n",
    "\n",
    "print(actual-entrada)\n",
    "print(entrada-actual)"
   ]
  },
  {
   "cell_type": "code",
   "execution_count": 98,
   "metadata": {},
   "outputs": [
    {
     "name": "stdout",
     "output_type": "stream",
     "text": [
      "0.00038\n"
     ]
    }
   ],
   "source": [
    "info = float(client.get_asset_balance('btc')['free'])\n",
    "print(info)"
   ]
  },
  {
   "cell_type": "code",
   "execution_count": 8,
   "metadata": {},
   "outputs": [
    {
     "ename": "AssertionError",
     "evalue": "API Secret required for private endpoints",
     "output_type": "error",
     "traceback": [
      "\u001b[0;31m---------------------------------------------------------------------------\u001b[0m",
      "\u001b[0;31mAssertionError\u001b[0m                            Traceback (most recent call last)",
      "\u001b[1;32m/home/k1r4/laboratorio/bot_strategy_dca/main.ipynb Celda 9\u001b[0m line \u001b[0;36m1\n\u001b[1;32m      <a href='vscode-notebook-cell://wsl%2Bubuntu-22.04/home/k1r4/laboratorio/bot_strategy_dca/main.ipynb#X11sdnNjb2RlLXJlbW90ZQ%3D%3D?line=0'>1</a>\u001b[0m params \u001b[39m=\u001b[39m {\n\u001b[1;32m      <a href='vscode-notebook-cell://wsl%2Bubuntu-22.04/home/k1r4/laboratorio/bot_strategy_dca/main.ipynb#X11sdnNjb2RlLXJlbW90ZQ%3D%3D?line=1'>2</a>\u001b[0m     \u001b[39m'\u001b[39m\u001b[39msymbol\u001b[39m\u001b[39m'\u001b[39m: \u001b[39m'\u001b[39m\u001b[39mBTCUSDT\u001b[39m\u001b[39m'\u001b[39m,\n\u001b[1;32m      <a href='vscode-notebook-cell://wsl%2Bubuntu-22.04/home/k1r4/laboratorio/bot_strategy_dca/main.ipynb#X11sdnNjb2RlLXJlbW90ZQ%3D%3D?line=2'>3</a>\u001b[0m     \u001b[39m'\u001b[39m\u001b[39mtype\u001b[39m\u001b[39m'\u001b[39m: \u001b[39m'\u001b[39m\u001b[39mMARKET\u001b[39m\u001b[39m'\u001b[39m,\n\u001b[0;32m   (...)\u001b[0m\n\u001b[1;32m      <a href='vscode-notebook-cell://wsl%2Bubuntu-22.04/home/k1r4/laboratorio/bot_strategy_dca/main.ipynb#X11sdnNjb2RlLXJlbW90ZQ%3D%3D?line=8'>9</a>\u001b[0m     \u001b[39m'\u001b[39m\u001b[39mquoteOrderQty\u001b[39m\u001b[39m'\u001b[39m: \u001b[39m10\u001b[39m\n\u001b[1;32m     <a href='vscode-notebook-cell://wsl%2Bubuntu-22.04/home/k1r4/laboratorio/bot_strategy_dca/main.ipynb#X11sdnNjb2RlLXJlbW90ZQ%3D%3D?line=9'>10</a>\u001b[0m }\n\u001b[0;32m---> <a href='vscode-notebook-cell://wsl%2Bubuntu-22.04/home/k1r4/laboratorio/bot_strategy_dca/main.ipynb#X11sdnNjb2RlLXJlbW90ZQ%3D%3D?line=10'>11</a>\u001b[0m order \u001b[39m=\u001b[39m client\u001b[39m.\u001b[39;49mcreate_order(\u001b[39m*\u001b[39;49m\u001b[39m*\u001b[39;49mparams)\n",
      "File \u001b[0;32m~/miniconda3/envs/bot_strategy_dca/lib/python3.11/site-packages/binance/client.py:1448\u001b[0m, in \u001b[0;36mClient.create_order\u001b[0;34m(self, **params)\u001b[0m\n\u001b[1;32m   1331\u001b[0m \u001b[39mdef\u001b[39;00m \u001b[39mcreate_order\u001b[39m(\u001b[39mself\u001b[39m, \u001b[39m*\u001b[39m\u001b[39m*\u001b[39mparams):\n\u001b[1;32m   1332\u001b[0m \u001b[39m    \u001b[39m\u001b[39m\"\"\"Send in a new order\u001b[39;00m\n\u001b[1;32m   1333\u001b[0m \n\u001b[1;32m   1334\u001b[0m \u001b[39m    Any order with an icebergQty MUST have timeInForce set to GTC.\u001b[39;00m\n\u001b[0;32m   (...)\u001b[0m\n\u001b[1;32m   1446\u001b[0m \n\u001b[1;32m   1447\u001b[0m \u001b[39m    \"\"\"\u001b[39;00m\n\u001b[0;32m-> 1448\u001b[0m     \u001b[39mreturn\u001b[39;00m \u001b[39mself\u001b[39;49m\u001b[39m.\u001b[39;49m_post(\u001b[39m'\u001b[39;49m\u001b[39morder\u001b[39;49m\u001b[39m'\u001b[39;49m, \u001b[39mTrue\u001b[39;49;00m, data\u001b[39m=\u001b[39;49mparams)\n",
      "File \u001b[0;32m~/miniconda3/envs/bot_strategy_dca/lib/python3.11/site-packages/binance/client.py:418\u001b[0m, in \u001b[0;36mClient._post\u001b[0;34m(self, path, signed, version, **kwargs)\u001b[0m\n\u001b[1;32m    417\u001b[0m \u001b[39mdef\u001b[39;00m \u001b[39m_post\u001b[39m(\u001b[39mself\u001b[39m, path, signed\u001b[39m=\u001b[39m\u001b[39mFalse\u001b[39;00m, version\u001b[39m=\u001b[39mBaseClient\u001b[39m.\u001b[39mPUBLIC_API_VERSION, \u001b[39m*\u001b[39m\u001b[39m*\u001b[39mkwargs) \u001b[39m-\u001b[39m\u001b[39m>\u001b[39m Dict:\n\u001b[0;32m--> 418\u001b[0m     \u001b[39mreturn\u001b[39;00m \u001b[39mself\u001b[39;49m\u001b[39m.\u001b[39;49m_request_api(\u001b[39m'\u001b[39;49m\u001b[39mpost\u001b[39;49m\u001b[39m'\u001b[39;49m, path, signed, version, \u001b[39m*\u001b[39;49m\u001b[39m*\u001b[39;49mkwargs)\n",
      "File \u001b[0;32m~/miniconda3/envs/bot_strategy_dca/lib/python3.11/site-packages/binance/client.py:378\u001b[0m, in \u001b[0;36mClient._request_api\u001b[0;34m(self, method, path, signed, version, **kwargs)\u001b[0m\n\u001b[1;32m    374\u001b[0m \u001b[39mdef\u001b[39;00m \u001b[39m_request_api\u001b[39m(\n\u001b[1;32m    375\u001b[0m     \u001b[39mself\u001b[39m, method, path: \u001b[39mstr\u001b[39m, signed: \u001b[39mbool\u001b[39m \u001b[39m=\u001b[39m \u001b[39mFalse\u001b[39;00m, version\u001b[39m=\u001b[39mBaseClient\u001b[39m.\u001b[39mPUBLIC_API_VERSION, \u001b[39m*\u001b[39m\u001b[39m*\u001b[39mkwargs\n\u001b[1;32m    376\u001b[0m ):\n\u001b[1;32m    377\u001b[0m     uri \u001b[39m=\u001b[39m \u001b[39mself\u001b[39m\u001b[39m.\u001b[39m_create_api_uri(path, signed, version)\n\u001b[0;32m--> 378\u001b[0m     \u001b[39mreturn\u001b[39;00m \u001b[39mself\u001b[39;49m\u001b[39m.\u001b[39;49m_request(method, uri, signed, \u001b[39m*\u001b[39;49m\u001b[39m*\u001b[39;49mkwargs)\n",
      "File \u001b[0;32m~/miniconda3/envs/bot_strategy_dca/lib/python3.11/site-packages/binance/client.py:356\u001b[0m, in \u001b[0;36mClient._request\u001b[0;34m(self, method, uri, signed, force_params, **kwargs)\u001b[0m\n\u001b[1;32m    354\u001b[0m \u001b[39mdef\u001b[39;00m \u001b[39m_request\u001b[39m(\u001b[39mself\u001b[39m, method, uri: \u001b[39mstr\u001b[39m, signed: \u001b[39mbool\u001b[39m, force_params: \u001b[39mbool\u001b[39m \u001b[39m=\u001b[39m \u001b[39mFalse\u001b[39;00m, \u001b[39m*\u001b[39m\u001b[39m*\u001b[39mkwargs):\n\u001b[0;32m--> 356\u001b[0m     kwargs \u001b[39m=\u001b[39m \u001b[39mself\u001b[39;49m\u001b[39m.\u001b[39;49m_get_request_kwargs(method, signed, force_params, \u001b[39m*\u001b[39;49m\u001b[39m*\u001b[39;49mkwargs)\n\u001b[1;32m    358\u001b[0m     \u001b[39mself\u001b[39m\u001b[39m.\u001b[39mresponse \u001b[39m=\u001b[39m \u001b[39mgetattr\u001b[39m(\u001b[39mself\u001b[39m\u001b[39m.\u001b[39msession, method)(uri, \u001b[39m*\u001b[39m\u001b[39m*\u001b[39mkwargs)\n\u001b[1;32m    359\u001b[0m     \u001b[39mreturn\u001b[39;00m \u001b[39mself\u001b[39m\u001b[39m.\u001b[39m_handle_response(\u001b[39mself\u001b[39m\u001b[39m.\u001b[39mresponse)\n",
      "File \u001b[0;32m~/miniconda3/envs/bot_strategy_dca/lib/python3.11/site-packages/binance/client.py:313\u001b[0m, in \u001b[0;36mBaseClient._get_request_kwargs\u001b[0;34m(self, method, signed, force_params, **kwargs)\u001b[0m\n\u001b[1;32m    310\u001b[0m \u001b[39mif\u001b[39;00m signed:\n\u001b[1;32m    311\u001b[0m     \u001b[39m# generate signature\u001b[39;00m\n\u001b[1;32m    312\u001b[0m     kwargs[\u001b[39m'\u001b[39m\u001b[39mdata\u001b[39m\u001b[39m'\u001b[39m][\u001b[39m'\u001b[39m\u001b[39mtimestamp\u001b[39m\u001b[39m'\u001b[39m] \u001b[39m=\u001b[39m \u001b[39mint\u001b[39m(time\u001b[39m.\u001b[39mtime() \u001b[39m*\u001b[39m \u001b[39m1000\u001b[39m \u001b[39m+\u001b[39m \u001b[39mself\u001b[39m\u001b[39m.\u001b[39mtimestamp_offset)\n\u001b[0;32m--> 313\u001b[0m     kwargs[\u001b[39m'\u001b[39m\u001b[39mdata\u001b[39m\u001b[39m'\u001b[39m][\u001b[39m'\u001b[39m\u001b[39msignature\u001b[39m\u001b[39m'\u001b[39m] \u001b[39m=\u001b[39m \u001b[39mself\u001b[39;49m\u001b[39m.\u001b[39;49m_generate_signature(kwargs[\u001b[39m'\u001b[39;49m\u001b[39mdata\u001b[39;49m\u001b[39m'\u001b[39;49m])\n\u001b[1;32m    315\u001b[0m \u001b[39m# sort get and post params to match signature order\u001b[39;00m\n\u001b[1;32m    316\u001b[0m \u001b[39mif\u001b[39;00m data:\n\u001b[1;32m    317\u001b[0m     \u001b[39m# sort post params and remove any arguments with values of None\u001b[39;00m\n",
      "File \u001b[0;32m~/miniconda3/envs/bot_strategy_dca/lib/python3.11/site-packages/binance/client.py:268\u001b[0m, in \u001b[0;36mBaseClient._generate_signature\u001b[0;34m(self, data)\u001b[0m\n\u001b[1;32m    266\u001b[0m     sig_func \u001b[39m=\u001b[39m \u001b[39mself\u001b[39m\u001b[39m.\u001b[39m_rsa_signature\n\u001b[1;32m    267\u001b[0m query_string \u001b[39m=\u001b[39m \u001b[39m'\u001b[39m\u001b[39m&\u001b[39m\u001b[39m'\u001b[39m\u001b[39m.\u001b[39mjoin([\u001b[39mf\u001b[39m\u001b[39m\"\u001b[39m\u001b[39m{\u001b[39;00md[\u001b[39m0\u001b[39m]\u001b[39m}\u001b[39;00m\u001b[39m=\u001b[39m\u001b[39m{\u001b[39;00md[\u001b[39m1\u001b[39m]\u001b[39m}\u001b[39;00m\u001b[39m\"\u001b[39m \u001b[39mfor\u001b[39;00m d \u001b[39min\u001b[39;00m \u001b[39mself\u001b[39m\u001b[39m.\u001b[39m_order_params(data)])\n\u001b[0;32m--> 268\u001b[0m \u001b[39mreturn\u001b[39;00m sig_func(query_string)\n",
      "File \u001b[0;32m~/miniconda3/envs/bot_strategy_dca/lib/python3.11/site-packages/binance/client.py:259\u001b[0m, in \u001b[0;36mBaseClient._hmac_signature\u001b[0;34m(self, query_string)\u001b[0m\n\u001b[1;32m    258\u001b[0m \u001b[39mdef\u001b[39;00m \u001b[39m_hmac_signature\u001b[39m(\u001b[39mself\u001b[39m, query_string: \u001b[39mstr\u001b[39m) \u001b[39m-\u001b[39m\u001b[39m>\u001b[39m \u001b[39mstr\u001b[39m:\n\u001b[0;32m--> 259\u001b[0m     \u001b[39massert\u001b[39;00m \u001b[39mself\u001b[39m\u001b[39m.\u001b[39mAPI_SECRET, \u001b[39m\"\u001b[39m\u001b[39mAPI Secret required for private endpoints\u001b[39m\u001b[39m\"\u001b[39m\n\u001b[1;32m    260\u001b[0m     m \u001b[39m=\u001b[39m hmac\u001b[39m.\u001b[39mnew(\u001b[39mself\u001b[39m\u001b[39m.\u001b[39mAPI_SECRET\u001b[39m.\u001b[39mencode(\u001b[39m'\u001b[39m\u001b[39mutf-8\u001b[39m\u001b[39m'\u001b[39m), query_string\u001b[39m.\u001b[39mencode(\u001b[39m'\u001b[39m\u001b[39mutf-8\u001b[39m\u001b[39m'\u001b[39m), hashlib\u001b[39m.\u001b[39msha256)\n\u001b[1;32m    261\u001b[0m     \u001b[39mreturn\u001b[39;00m m\u001b[39m.\u001b[39mhexdigest()\n",
      "\u001b[0;31mAssertionError\u001b[0m: API Secret required for private endpoints"
     ]
    }
   ],
   "source": [
    "params = {\n",
    "    'symbol': 'BTCUSDT',\n",
    "    'type': 'MARKET',\n",
    "    'side': 'BUY',\n",
    "    # 'timeInForce': 'GTC',\n",
    "    # para  realizar , en valores del asset \n",
    "    # 'quantity': info\n",
    "    #  quoteorderqty para valores , en usdt \n",
    "    'quoteOrderQty': 10\n",
    "}\n",
    "order = client.create_order(**params)\n",
    "    "
   ]
  },
  {
   "cell_type": "code",
   "execution_count": null,
   "metadata": {},
   "outputs": [],
   "source": [
    "info = client.get_asset_balance('USDT')\n",
    "print(f\"la operacion comercial, se ha realizado con EXITO\\n\\n{info}\")"
   ]
  },
  {
   "cell_type": "code",
   "execution_count": 5,
   "metadata": {},
   "outputs": [
    {
     "ename": "AttributeError",
     "evalue": "'Client' object has no attribute 'get_order_status'",
     "output_type": "error",
     "traceback": [
      "\u001b[0;31m---------------------------------------------------------------------------\u001b[0m",
      "\u001b[0;31mAttributeError\u001b[0m                            Traceback (most recent call last)",
      "\u001b[1;32m/home/k1r4/laboratorio/bot_strategy_dca/main.ipynb Celda 11\u001b[0m line \u001b[0;36m1\n\u001b[0;32m----> <a href='vscode-notebook-cell://wsl%2Bubuntu-22.04/home/k1r4/laboratorio/bot_strategy_dca/main.ipynb#X13sdnNjb2RlLXJlbW90ZQ%3D%3D?line=0'>1</a>\u001b[0m order_status \u001b[39m=\u001b[39m client\u001b[39m.\u001b[39;49mget_order_status(order[\u001b[39m'\u001b[39m\u001b[39morderId\u001b[39m\u001b[39m'\u001b[39m])\n",
      "\u001b[0;31mAttributeError\u001b[0m: 'Client' object has no attribute 'get_order_status'"
     ]
    }
   ],
   "source": [
    "order_status = client.get_order_status(order['orderId'])"
   ]
  },
  {
   "cell_type": "code",
   "execution_count": null,
   "metadata": {},
   "outputs": [],
   "source": [
    "# Obtiene el profit o las ganancias\n",
    "profit = order_status['profit']\n",
    "\n",
    "# Imprime el profit o las ganancias\n",
    "print(profit)"
   ]
  }
 ],
 "metadata": {
  "kernelspec": {
   "display_name": "bot_strategy_dca",
   "language": "python",
   "name": "python3"
  },
  "language_info": {
   "codemirror_mode": {
    "name": "ipython",
    "version": 3
   },
   "file_extension": ".py",
   "mimetype": "text/x-python",
   "name": "python",
   "nbconvert_exporter": "python",
   "pygments_lexer": "ipython3",
   "version": "3.11.5"
  },
  "orig_nbformat": 4
 },
 "nbformat": 4,
 "nbformat_minor": 2
}
